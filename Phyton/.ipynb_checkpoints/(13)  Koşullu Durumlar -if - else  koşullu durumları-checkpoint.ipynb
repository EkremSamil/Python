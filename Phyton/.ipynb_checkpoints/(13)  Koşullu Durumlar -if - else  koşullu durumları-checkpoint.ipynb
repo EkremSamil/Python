{
 "cells": [
  {
   "cell_type": "code",
   "execution_count": null,
   "metadata": {},
   "outputs": [],
   "source": [
    "##Girintiler(tab ile bırakılan 4 boşluk)\n",
    "a = 2 # Blok 1 'e ait kod\n",
    " \n",
    "if (a == 2):\n",
    "#Alttaki boşluk girintidir.    \n",
    "    print(a) # Blok 2'ye ait kod\n",
    "\n",
    "print(\"Merhaba\") # Blok 1 ' ait kod\n"
   ]
  },
  {
   "cell_type": "markdown",
   "metadata": {},
   "source": [
    "## if ve else çalışma mantığı "
   ]
  },
  {
   "cell_type": "code",
   "execution_count": 4,
   "metadata": {},
   "outputs": [
    {
     "name": "stdout",
     "output_type": "stream",
     "text": [
      "Yaşınızı Giriniz:17\n",
      "Mekana Giremezsiniz\n"
     ]
    }
   ],
   "source": [
    "##Mesela bir kullanıcı mekana girmeye çalışıyor ve 18 yaşından küçük diyelim.\n",
    "\n",
    "yaş = int(input(\"Yaşınızı Giriniz:\"))\n",
    "if (yaş < 18):\n",
    "    print(\"Mekana Giremezsiniz\")\n",
    "    "
   ]
  },
  {
   "cell_type": "code",
   "execution_count": 5,
   "metadata": {},
   "outputs": [
    {
     "name": "stdout",
     "output_type": "stream",
     "text": [
      "Yaşınızı Giriniz:19\n"
     ]
    }
   ],
   "source": [
    "#Peki ya yaşı 18' den büyük birisi gelseydi bunun için ekrana ne yazdıracaktık?\n",
    "yaş = int(input(\"Yaşınızı Giriniz:\"))\n",
    "if (yaş < 18):\n",
    "    print(\"Mekana Giremezsiniz\")\n",
    "    "
   ]
  },
  {
   "cell_type": "code",
   "execution_count": 10,
   "metadata": {},
   "outputs": [
    {
     "name": "stdout",
     "output_type": "stream",
     "text": [
      "Yaşınızı Giriniz:19\n",
      "Mekana Hoşgeldiniz.\n"
     ]
    }
   ],
   "source": [
    "#Bunun için else koşullu durumunu kullanmamız gerekir.\n",
    "yaş = int(input(\"Yaşınızı Giriniz:\"))\n",
    "if (yaş < 18):\n",
    "    print(\"Mekana Giremezsiniz\")\n",
    "else:\n",
    "    print(\"Mekana Hoşgeldiniz.\")"
   ]
  },
  {
   "cell_type": "code",
   "execution_count": 11,
   "metadata": {},
   "outputs": [],
   "source": [
    "#Gördüğümüz gibi yaşı 18 den yüksek olan kişi için Mekana hoşgeldiniz yazısını yazdırdık.\n"
   ]
  },
  {
   "cell_type": "code",
   "execution_count": 12,
   "metadata": {},
   "outputs": [
    {
     "name": "stdout",
     "output_type": "stream",
     "text": [
      "Yaşınızı Giriniz:18\n",
      "Seneye Görüşmek Üzere :)\n"
     ]
    }
   ],
   "source": [
    "yaş = int(input(\"Yaşınızı Giriniz:\"))\n",
    "if (yaş < 18):\n",
    "    print(\"Mekana Giremezsiniz\")\n",
    "if (yaş == 18):\n",
    "    print(\"Seneye Görüşmek Üzere :)\")\n",
    "else:\n",
    "    print(\"Mekana Hoşgeldiniz.\")\n",
    "    "
   ]
  },
  {
   "cell_type": "markdown",
   "metadata": {},
   "source": [
    "# if ve else nedir?\n",
    "if bloğu eğer koşul sağlanırsa anlamı taşır. Eğer if kalıbındaki koşul sağlanırsa (True) if bloğu çalıştırılır, koşul sağlanmazsa (False) if bloğu çalıştırılmaz.\n",
    "\n",
    "else blokları if koşulu sağlanmadığı zaman (False) çalışan bloklardır.\n",
    "else bloğu - Yukarısındaki herhangi bir if bloğu  çalışmadığı zaman çalışır."
   ]
  },
  {
   "cell_type": "code",
   "execution_count": null,
   "metadata": {},
   "outputs": [],
   "source": []
  }
 ],
 "metadata": {
  "kernelspec": {
   "display_name": "Python 3",
   "language": "python",
   "name": "python3"
  },
  "language_info": {
   "codemirror_mode": {
    "name": "ipython",
    "version": 3
   },
   "file_extension": ".py",
   "mimetype": "text/x-python",
   "name": "python",
   "nbconvert_exporter": "python",
   "pygments_lexer": "ipython3",
   "version": "3.7.4"
  }
 },
 "nbformat": 4,
 "nbformat_minor": 2
}
