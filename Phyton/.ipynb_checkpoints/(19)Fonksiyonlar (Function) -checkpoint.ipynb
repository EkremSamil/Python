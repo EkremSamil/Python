{
 "cells": [
  {
   "cell_type": "code",
   "execution_count": 1,
   "metadata": {},
   "outputs": [],
   "source": [
    "##Fonksiyonlara başlamadan önce metodlar nedir onu bir öğrenelim.\n"
   ]
  },
  {
   "cell_type": "markdown",
   "metadata": {},
   "source": [
    "# Metod Nedir?"
   ]
  },
  {
   "cell_type": "markdown",
   "metadata": {},
   "source": [
    "Şimdiye kadar Pythonda kullanabildiğimiz bir çok veri tipi gördük ve bazı veritipleri üzerinde bu veritiplerinin metodlarını kullandık. Aslında bu veritiplerin oluşturulan her bir değişken Pythonda obje( object) olarak düşünülür ve Python geliştiricileri bu objelere birçok metod tanımlamıştır. Peki nedir bu metodlar ?\n",
    "\n",
    "Metodlar bir obje üzerinde belli işlemleri gerçekleştiren objelere özgü fonksiyonlardır ve objelerin üzerinde metodlar şu şekilde kullanılır.\n",
    "\n",
    "    Python\n",
    "    obje.herhangi_bir_metod(değerler(opsiyonel))\n",
    "\n",
    "Örneğin bir liste objesi oluşturduğumuz zaman bu objenin üzerinde belli metodları uygulayabiliriz."
   ]
  },
  {
   "cell_type": "code",
   "execution_count": 18,
   "metadata": {},
   "outputs": [
    {
     "name": "stdout",
     "output_type": "stream",
     "text": [
      "[1, 'Ekrem', 2, 3, 'Samil', 4]\n"
     ]
    }
   ],
   "source": [
    "#Örnek\n",
    "liste = [1,2,3,4,5]\n",
    "liste.insert(1,\"Ekrem\")\n",
    "liste.insert(4,\"Samil\") #4.İndekse \"Samil\" değerini atadık\n",
    "liste.pop() #Sondaki 5 i sildik\n",
    "print(liste)"
   ]
  },
  {
   "cell_type": "code",
   "execution_count": 19,
   "metadata": {},
   "outputs": [],
   "source": [
    "##Şimdi ise asıl konumuza Fonksiyonlara dönelim."
   ]
  },
  {
   "cell_type": "markdown",
   "metadata": {},
   "source": [
    "# Fonksiyonlar(Function)"
   ]
  },
  {
   "cell_type": "markdown",
   "metadata": {},
   "source": [
    "Fonksiyonlar programlamada belli işlevleri olan ve tekrar tekrar kullandığımız yapılardır. Örneğin kursumuzun başlarından beri kullandığımız print() fonksiyonunun görevi içine gönderdiğimiz değerleri ekrana yazdırdırmaktır. Bu fonksiyon Python geliştiricileri tarafından bir defa yazılmış ve biz de bu fonksiyonu programlarımızın değişik yerlerinde tekrar tekrar kullanıyoruz. İşte fonksiyonların kullanım amacı tam olarak budur. Fonksiyonlar bir defa tanımlanır ve programlarda ihtiyacımız olduğu zaman kullanırız.\n",
    "\n",
    "Fonksiyonların ne olduğunu gerçek hayattan benzetme yaparak anlamaya çalışalım. Örneğin evimize bir adet katı meyve sıkacağı alıyoruz ve canımız ne zaman meyve suyu isterse bu aleti kullanıyoruz. Yani aslında bu aletin görevi ve fonksiyonu meyve suyu hazırlamaktır."
   ]
  },
  {
   "cell_type": "code",
   "execution_count": null,
   "metadata": {},
   "outputs": [],
   "source": []
  },
  {
   "cell_type": "markdown",
   "metadata": {},
   "source": [
    "Python geliştiricilerin yazdığı fonksiyonlara yani bizim hazır kullandığımız fonksiyonlara(print(),type() vs.) gömülü fonksiyonlar(built-in function) denilmektedir.Ancak bunlardan hariç olarak biz kendi özel fonksiyonlarımızı(user-defined functions) da tanımlayabiliriz."
   ]
  },
  {
   "cell_type": "markdown",
   "metadata": {},
   "source": [
    "## Fonksiyonların Tanımlanması"
   ]
  },
  {
   "cell_type": "markdown",
   "metadata": {},
   "source": [
    "Fonksiyon tanımlamanın yapısı şu şekildedir;\n",
    "    def  fonksiyon_adı(parametre1,parametre2...(opsiyonel))\n",
    "        fonksiyon bloğu\n",
    "        yapılacak işlemler\n",
    "        dönüş değeri --- Opsiyonel\n",
    "         "
   ]
  },
  {
   "cell_type": "code",
   "execution_count": 21,
   "metadata": {},
   "outputs": [],
   "source": [
    "#Örneklerle Başlayalım\n"
   ]
  },
  {
   "cell_type": "code",
   "execution_count": 23,
   "metadata": {},
   "outputs": [
    {
     "ename": "NameError",
     "evalue": "name 'selamla' is not defined",
     "output_type": "error",
     "traceback": [
      "\u001b[1;31m---------------------------------------------------------------------------\u001b[0m",
      "\u001b[1;31mNameError\u001b[0m                                 Traceback (most recent call last)",
      "\u001b[1;32m<ipython-input-23-fb5f2e19c8d8>\u001b[0m in \u001b[0;36m<module>\u001b[1;34m\u001b[0m\n\u001b[1;32m----> 1\u001b[1;33m \u001b[0mtype\u001b[0m\u001b[1;33m(\u001b[0m\u001b[0mselamla\u001b[0m\u001b[1;33m)\u001b[0m \u001b[1;31m# Henüz tanımlama yapmadığımız için hata verdi.\u001b[0m\u001b[1;33m\u001b[0m\u001b[1;33m\u001b[0m\u001b[0m\n\u001b[0m",
      "\u001b[1;31mNameError\u001b[0m: name 'selamla' is not defined"
     ]
    }
   ],
   "source": [
    "type(selamla) # Henüz tanımlama yapmadığımız için hata verdi."
   ]
  },
  {
   "cell_type": "code",
   "execution_count": 25,
   "metadata": {},
   "outputs": [],
   "source": [
    "def selamla():\n",
    "    print(\"Merhaba...\")\n",
    "    print(\"Nasılsınız\")\n",
    "    "
   ]
  },
  {
   "cell_type": "code",
   "execution_count": 27,
   "metadata": {},
   "outputs": [
    {
     "name": "stdout",
     "output_type": "stream",
     "text": [
      "Merhaba...\n",
      "Nasılsınız\n"
     ]
    }
   ],
   "source": [
    "selamla() #Buna fonksiyonu çağırma denir bakacaz bekle "
   ]
  },
  {
   "cell_type": "code",
   "execution_count": 30,
   "metadata": {},
   "outputs": [
    {
     "data": {
      "text/plain": [
       "function"
      ]
     },
     "execution_count": 30,
     "metadata": {},
     "output_type": "execute_result"
    }
   ],
   "source": [
    "type(selamla)\n",
    "#fonksiyon olarak tanımlandı."
   ]
  },
  {
   "cell_type": "markdown",
   "metadata": {},
   "source": [
    "### Fonksiyonların Kullanılması veya Çağrılması (Function Call)"
   ]
  },
  {
   "cell_type": "markdown",
   "metadata": {},
   "source": [
    "Tanımlanan bir fonksiyonun kullanılmasına programlama dillerinde Fonksiyon Çağrısı denmektedir. O halde selamla fonksiyonumuzu nasıl çağıracağımızı öğrenelim. Fonksiyon çağrısı şu şekilde yapılabilmektedir;\n",
    "    \n",
    "    fonksiyon_adı(Argüman1,Argüman2....)\n",
    "\n",
    "Örneğimize bakalım.."
   ]
  },
  {
   "cell_type": "code",
   "execution_count": 32,
   "metadata": {},
   "outputs": [
    {
     "name": "stdout",
     "output_type": "stream",
     "text": [
      "Merhaba...\n",
      "Nasılsınız\n"
     ]
    }
   ],
   "source": [
    "selamla() #Fonksiyonumuz parametre almadığında içine argümanlarımızı göndermiyoruz\n",
    "            #parametre dediğimiz yeri anlamadıysan şurası\n",
    "              ## def selamla() <=  Buradaki yer biraz daha ilerle daha iyi anlayacaksın."
   ]
  },
  {
   "cell_type": "markdown",
   "metadata": {},
   "source": [
    "**************************************************************************************************************************************************************************************************************************************************************\n",
    "Yukarıda gördüğünüz gibi, fonksiyonumuz çağrıldığı zaman, kendi bloğundaki işleri yaptı ve ekrana 2 tane değer yazdırdı. Bu fonksiyonu istediğimiz yerde tekrar tekrar çağırabiliriz."
   ]
  },
  {
   "cell_type": "code",
   "execution_count": 33,
   "metadata": {},
   "outputs": [
    {
     "name": "stdout",
     "output_type": "stream",
     "text": [
      "Merhaba...\n",
      "Nasılsınız\n",
      "Merhaba...\n",
      "Nasılsınız\n",
      "Merhaba...\n",
      "Nasılsınız\n",
      "Merhaba...\n",
      "Nasılsınız\n"
     ]
    }
   ],
   "source": [
    "selamla()\n",
    "selamla()\n",
    "selamla()\n",
    "selamla()    ##selamla fonksiyonumuzu 4 defa çağırdık ve fonksiyonumuz işlevini 4 defa yerine getirdi."
   ]
  },
  {
   "cell_type": "markdown",
   "metadata": {},
   "source": [
    "Peki ya içine değer verseydik ne olurdu?"
   ]
  },
  {
   "cell_type": "code",
   "execution_count": 36,
   "metadata": {},
   "outputs": [
    {
     "ename": "TypeError",
     "evalue": "selamla() takes 0 positional arguments but 1 was given",
     "output_type": "error",
     "traceback": [
      "\u001b[1;31m---------------------------------------------------------------------------\u001b[0m",
      "\u001b[1;31mTypeError\u001b[0m                                 Traceback (most recent call last)",
      "\u001b[1;32m<ipython-input-36-7b85ce715d4d>\u001b[0m in \u001b[0;36m<module>\u001b[1;34m\u001b[0m\n\u001b[1;32m----> 1\u001b[1;33m \u001b[0mselamla\u001b[0m\u001b[1;33m(\u001b[0m\u001b[1;34m\"Ekrem\"\u001b[0m\u001b[1;33m)\u001b[0m \u001b[1;31m# Hata verdi çünkü fonksiyonumuz hiçbir değer almıyor.\u001b[0m\u001b[1;33m\u001b[0m\u001b[1;33m\u001b[0m\u001b[0m\n\u001b[0m",
      "\u001b[1;31mTypeError\u001b[0m: selamla() takes 0 positional arguments but 1 was given"
     ]
    }
   ],
   "source": [
    "selamla(\"Ekrem\") # Hata verdi çünkü fonksiyonumuz hiçbir değer almıyor."
   ]
  },
  {
   "cell_type": "markdown",
   "metadata": {},
   "source": [
    "#  Parametreler ve Argümanlar\n"
   ]
  },
  {
   "cell_type": "markdown",
   "metadata": {},
   "source": [
    "Biz selamla fonksiyonunun içine herhangi bir değer göndermiyorduk ve fonksiyonumuz hep aynı işi yapıyordu. Ancak çoğu zaman fonksiyonlarımız içine gönderdiğimiz değerlerle farklı işlemler yaparlar. Örneğin katı meyve sıkacağına eğer “Elma” verirsek elma suyu, “Nar” verirsek nar suyu hazırlayacaktır. Fonksiyonlarda da Parametreleri bu şekilde düşünebilirsiniz. İsterseniz şimdi selamlama fonksiyonumuzu bir tane parametre alacak şekilde tanımlayalım."
   ]
  },
  {
   "cell_type": "code",
   "execution_count": 37,
   "metadata": {},
   "outputs": [],
   "source": [
    "def selamla(isim): # <= isim değişkenimiz burada bizim parametremizdir.\n",
    "    print(\"Merhaba\",isim)\n",
    "    "
   ]
  },
  {
   "cell_type": "code",
   "execution_count": 40,
   "metadata": {},
   "outputs": [
    {
     "name": "stdout",
     "output_type": "stream",
     "text": [
      "Merhaba Ekrem\n",
      "Merhaba Şamil\n"
     ]
    }
   ],
   "source": [
    "selamla(\"Ekrem\") # <= \"Ekrem\" ise bizim argümanımızdır.\n",
    "selamla(\"Şamil\") # <= \"Şamil\" de aynı şekilde bir argümandır."
   ]
  },
  {
   "cell_type": "markdown",
   "metadata": {},
   "source": [
    "*************************************************************************************************************************************************************************************************************************************************************\n",
    "\n",
    "Bizim fonksiyon tanımlarken tanımladığımız herbir değişken birer Parametre , fonksiyon çağrısı yaptığımız zaman içine gönderdiğimiz değerler ise Argüman olmaktadır. Burada fonksiyonu çağırırken gönderdiğimiz “Kemal” değeri “isim” isimli parametreye eşit oluyor ve fonksiyonumuz bu değere göre işlem yapıyor. “Ayşe” değerini gönderdiğimizde ise fonksiyonumuz bu değere göre işlem yaparak ekrana farklı bir değer yazdırıyor."
   ]
  },
  {
   "cell_type": "code",
   "execution_count": 41,
   "metadata": {},
   "outputs": [],
   "source": [
    "def toplama(a,b,c):\n",
    "    print(\"Toplamları\",a+b+c)"
   ]
  },
  {
   "cell_type": "code",
   "execution_count": 46,
   "metadata": {},
   "outputs": [
    {
     "name": "stdout",
     "output_type": "stream",
     "text": [
      "Toplamları 6\n",
      "Toplamları 60\n"
     ]
    }
   ],
   "source": [
    "toplama(1,2,3)\n",
    "toplama(10,20,30)"
   ]
  },
  {
   "cell_type": "code",
   "execution_count": 53,
   "metadata": {},
   "outputs": [],
   "source": [
    "def faktoriyel(sayı):\n",
    "    faktoriyel = 1\n",
    "    if (sayı == 0 or sayı == 1):\n",
    "        print(\"Faktoriyel\",faktoriyel)\n",
    "    else:\n",
    "        while (sayı >= 1):\n",
    "            faktoriyel *= sayı\n",
    "            sayı -= 1 \n",
    "        print(\"Faktoriyel\",faktoriyel)"
   ]
  },
  {
   "cell_type": "code",
   "execution_count": 55,
   "metadata": {},
   "outputs": [
    {
     "name": "stdout",
     "output_type": "stream",
     "text": [
      "Faktoriyel 120\n"
     ]
    }
   ],
   "source": [
    "faktoriyel(5)"
   ]
  },
  {
   "cell_type": "code",
   "execution_count": null,
   "metadata": {},
   "outputs": [],
   "source": []
  }
 ],
 "metadata": {
  "kernelspec": {
   "display_name": "Python 3",
   "language": "python",
   "name": "python3"
  },
  "language_info": {
   "codemirror_mode": {
    "name": "ipython",
    "version": 3
   },
   "file_extension": ".py",
   "mimetype": "text/x-python",
   "name": "python",
   "nbconvert_exporter": "python",
   "pygments_lexer": "ipython3",
   "version": "3.7.4"
  }
 },
 "nbformat": 4,
 "nbformat_minor": 2
}
