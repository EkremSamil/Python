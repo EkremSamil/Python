{
 "cells": [
  {
   "cell_type": "markdown",
   "metadata": {},
   "source": [
    "# Print Fonksiyonu \n",
    "    Kodlarımızı yazdığımızda ekrana bir değer bastırmak istersek print() fonksiyonunu kullanırız.\n"
   ]
  },
  {
   "cell_type": "code",
   "execution_count": 1,
   "metadata": {},
   "outputs": [
    {
     "name": "stdout",
     "output_type": "stream",
     "text": [
      "Ekrem\n"
     ]
    }
   ],
   "source": [
    "print(\"Ekrem\")"
   ]
  },
  {
   "cell_type": "code",
   "execution_count": 2,
   "metadata": {},
   "outputs": [
    {
     "name": "stdout",
     "output_type": "stream",
     "text": [
      "Ekrem 14 Samil \n"
     ]
    }
   ],
   "source": [
    "#Aynı satırda birden fazla değer yazmak için \",\" kullan\n",
    "\n",
    "print(\"Ekrem\",14,\"Samil \",)"
   ]
  },
  {
   "cell_type": "markdown",
   "metadata": {},
   "source": [
    "# Stringlerdeki Özel Karakterler"
   ]
  },
  {
   "cell_type": "code",
   "execution_count": 3,
   "metadata": {},
   "outputs": [
    {
     "name": "stdout",
     "output_type": "stream",
     "text": [
      "Ekrem\n",
      "Samil\n",
      "Bolat\n"
     ]
    }
   ],
   "source": [
    "#\\n karakteri Eğer print() fonksiyonu böyle bir karakterle karşılaşırsa alt satırdan yazmaya devam eder.\n",
    "\n",
    "print(\"Ekrem\\nSamil\\nBolat\")"
   ]
  },
  {
   "cell_type": "code",
   "execution_count": 4,
   "metadata": {},
   "outputs": [
    {
     "name": "stdout",
     "output_type": "stream",
     "text": [
      "Ekrem\tSamil\tBolat\n"
     ]
    }
   ],
   "source": [
    "#\\t karakterinde ise yan yana yazılan değerler arasına bir tab boşluk bırakılır.\n",
    "\n",
    "print(\"Ekrem\\tSamil\\tBolat\")"
   ]
  },
  {
   "cell_type": "code",
   "execution_count": 5,
   "metadata": {},
   "outputs": [
    {
     "data": {
      "text/plain": [
       "int"
      ]
     },
     "execution_count": 5,
     "metadata": {},
     "output_type": "execute_result"
    }
   ],
   "source": [
    "#type() fonksiyonu bu fonksiyon bize hangi veri tipinde olduğunu gösterir.\n",
    "\n",
    "type(34)"
   ]
  },
  {
   "cell_type": "code",
   "execution_count": 6,
   "metadata": {},
   "outputs": [
    {
     "data": {
      "text/plain": [
       "float"
      ]
     },
     "execution_count": 6,
     "metadata": {},
     "output_type": "execute_result"
    }
   ],
   "source": [
    "type(3.14)"
   ]
  },
  {
   "cell_type": "code",
   "execution_count": 7,
   "metadata": {},
   "outputs": [
    {
     "data": {
      "text/plain": [
       "str"
      ]
     },
     "execution_count": 7,
     "metadata": {},
     "output_type": "execute_result"
    }
   ],
   "source": [
    "type(\"Ekrem\")"
   ]
  },
  {
   "cell_type": "markdown",
   "metadata": {},
   "source": [
    "# Print() Fonksiyonunun Özellikleri"
   ]
  },
  {
   "cell_type": "code",
   "execution_count": null,
   "metadata": {},
   "outputs": [],
   "source": [
    "#sep Parametresi yazdırdığımız değerlerin arasına istediğimiz karakterlerin yazılmasını sağlar.\n",
    "##Eğer içine bir şey yazmazsak varsayılan olarak boşluk koyar."
   ]
  },
  {
   "cell_type": "code",
   "execution_count": 22,
   "metadata": {},
   "outputs": [
    {
     "name": "stdout",
     "output_type": "stream",
     "text": [
      "1/2/3/4/5/6\n"
     ]
    }
   ],
   "source": [
    "print(1,2,3,4,5,6,sep = \"/\")"
   ]
  },
  {
   "cell_type": "code",
   "execution_count": 34,
   "metadata": {},
   "outputs": [
    {
     "name": "stdout",
     "output_type": "stream",
     "text": [
      "3\t4\t5\t6\t7\t8\n"
     ]
    }
   ],
   "source": [
    "print(3,4,5,6,7,8, sep = \"\\t\")"
   ]
  },
  {
   "cell_type": "markdown",
   "metadata": {},
   "source": [
    "(*) parametresi değerler arasına 1'er satır boşluk bırakır."
   ]
  },
  {
   "cell_type": "code",
   "execution_count": 40,
   "metadata": {},
   "outputs": [
    {
     "name": "stdout",
     "output_type": "stream",
     "text": [
      "T.B.M.M\n"
     ]
    }
   ],
   "source": [
    "print(*\"TBMM\",sep = \".\")"
   ]
  },
  {
   "cell_type": "code",
   "execution_count": 42,
   "metadata": {},
   "outputs": [
    {
     "name": "stdout",
     "output_type": "stream",
     "text": [
      "T.U.B.I.T.A.K\n"
     ]
    }
   ],
   "source": [
    "print (*\"TUBITAK\",sep = \".\")"
   ]
  },
  {
   "cell_type": "code",
   "execution_count": 44,
   "metadata": {},
   "outputs": [
    {
     "name": "stdout",
     "output_type": "stream",
     "text": [
      "T.A.P\n"
     ]
    }
   ],
   "source": [
    "print(*\"TAP\",sep = \".\")"
   ]
  },
  {
   "cell_type": "markdown",
   "metadata": {},
   "source": [
    "# Formatlama"
   ]
  },
  {
   "cell_type": "code",
   "execution_count": 45,
   "metadata": {},
   "outputs": [],
   "source": [
    "#Programlama yaparken bazı yerlerde bir stringin içinde daha önceden tanımlı string,float, int vs. değerleri yerleştirmek isteyebiliriz. \n",
    "##Böyle durumlar için Pythonda format() fonksiyonu bulunmaktadır."
   ]
  },
  {
   "cell_type": "code",
   "execution_count": 56,
   "metadata": {},
   "outputs": [
    {
     "name": "stdout",
     "output_type": "stream",
     "text": [
      "3.1582421 5.231235 7.234235 \n"
     ]
    }
   ],
   "source": [
    "print (\"{} {} {} \".format(3.1582421,5.231235,7.234235))"
   ]
  },
  {
   "cell_type": "code",
   "execution_count": 61,
   "metadata": {},
   "outputs": [
    {
     "name": "stdout",
     "output_type": "stream",
     "text": [
      "5 + 4'nin toplamı 9'dur. \n"
     ]
    }
   ],
   "source": [
    "a = 5\n",
    "b = 4 \n",
    "print(\"{} + {}'nin toplamı {}'dur. \".format(a,b,a+b))"
   ]
  },
  {
   "cell_type": "code",
   "execution_count": 62,
   "metadata": {},
   "outputs": [
    {
     "name": "stdout",
     "output_type": "stream",
     "text": [
      "Murat 43 54\n"
     ]
    }
   ],
   "source": [
    "# Süslü parantezlerin içindeki sayılar format fonksiyonun içinden hangi sıradaki değerin geleceğini söylüyor.\n",
    "print(\"{1} {0} {2}\".format(43,\"Murat\",54))"
   ]
  },
  {
   "cell_type": "code",
   "execution_count": 65,
   "metadata": {},
   "outputs": [
    {
     "name": "stdout",
     "output_type": "stream",
     "text": [
      "3.15 5.32 7.324\n"
     ]
    }
   ],
   "source": [
    "# Süslü parantezlerin içindeki kullanım ondalıklı kısmın sadece 2 basamağına kadar almak istediğimiz söylüyor.\n",
    "\n",
    "print(\"{:.2f} {:.2f} {:.3f}\".format(3.1463,5.324,7.324324))\n",
    "# 3.146'nın 3.15 e yuvarlanır sebebi ise 3.14(63) yani 6 sayısı 15 e yuvarlar.\n",
    "# .2f demek 2 ondalıklı kısmı al demektir 3f te aynı şekilde 3 tane ondalık kısmı al demektir.\n",
    "\n"
   ]
  },
  {
   "cell_type": "code",
   "execution_count": null,
   "metadata": {},
   "outputs": [],
   "source": []
  }
 ],
 "metadata": {
  "kernelspec": {
   "display_name": "Python 3",
   "language": "python",
   "name": "python3"
  },
  "language_info": {
   "codemirror_mode": {
    "name": "ipython",
    "version": 3
   },
   "file_extension": ".py",
   "mimetype": "text/x-python",
   "name": "python",
   "nbconvert_exporter": "python",
   "pygments_lexer": "ipython3",
   "version": "3.7.4"
  }
 },
 "nbformat": 4,
 "nbformat_minor": 2
}
