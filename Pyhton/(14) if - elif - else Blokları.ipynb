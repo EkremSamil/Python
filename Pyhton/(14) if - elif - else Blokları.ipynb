{
 "cells": [
  {
   "cell_type": "markdown",
   "metadata": {},
   "source": [
    "Önceki konumuzda koşullu durumlarımızla sadece tek bir koşulu kontrol edebiliyorduk. Ancak programlamada bir durum bir çok koşula bağlı olabilir. Örneğin bir hesap makinesi programı yazdığımızda kullanıcının girdiği işlemlere göre koşullarımızı belirleyebiliriz. Bu tür durumlar için if-elif-else kalıplarını kullanırız. Kullanımı şu şekildedir;\n",
    "\n",
    "Python\n",
    "\n",
    "\n",
    "if koşul: \n",
    "    Yapılacak İşlemler\n",
    "    \n",
    "elif başka bir koşul:\n",
    "     Yapılacak İşlemler\n",
    "\n",
    "elif başka bir koşul:\n",
    "     Yapılacak İşlemler\n",
    " \n",
    "    //\n",
    "    //        \n",
    "\n",
    "else:\n",
    "\n",
    "    Yapılacak İşlemler\n",
    "\n",
    "Programlarımızda, Kaç tane koşulumuz var ise o kadar elif bloğu oluşturabiliriz. Ayrıca else in yazılması zorunlu değildir. \n",
    "\n",
    "if – elif – else kalıplarında, hangi koşul sağlanırsa program o bloğu çalıştırır ve if-elif-blokları sona erer. Şimdi isterseniz kullanıcıya işlem seçtirdiğimiz bir programla , bu kalıbı öğrenmeye başlayalım."
   ]
  },
  {
   "cell_type": "code",
   "execution_count": 5,
   "metadata": {},
   "outputs": [
    {
     "name": "stdout",
     "output_type": "stream",
     "text": [
      "İşlem giriniz:5\n",
      "Geçersiz İşlem.\n"
     ]
    }
   ],
   "source": [
    "işlem = input(\"İşlem giriniz:\")\n",
    "\n",
    "if işlem == \"1\":\n",
    "    print(\"İşlem 1 seçildi.\")\n",
    "elif işlem ==\"2\":\n",
    "    print(\"işlem 2 seçildi.\")\n",
    "elif işlem ==\"3\":\n",
    "    print(\"işlem 3 seçildi.\")\n",
    "elif işlem ==\"4\":\n",
    "    print(\"işlem 4 seçildi.\")\n",
    "\n",
    "else:\n",
    "    print(\"Geçersiz İşlem.\")"
   ]
  },
  {
   "cell_type": "code",
   "execution_count": 6,
   "metadata": {},
   "outputs": [
    {
     "ename": "SyntaxError",
     "evalue": "invalid syntax (<ipython-input-6-2da3358b7870>, line 1)",
     "output_type": "error",
     "traceback": [
      "\u001b[1;36m  File \u001b[1;32m\"<ipython-input-6-2da3358b7870>\"\u001b[1;36m, line \u001b[1;32m1\u001b[0m\n\u001b[1;33m    else:\u001b[0m\n\u001b[1;37m       ^\u001b[0m\n\u001b[1;31mSyntaxError\u001b[0m\u001b[1;31m:\u001b[0m invalid syntax\n"
     ]
    }
   ],
   "source": [
    "else:\n",
    "    print(\"Geçersiz İşlem\")"
   ]
  },
  {
   "cell_type": "code",
   "execution_count": 11,
   "metadata": {},
   "outputs": [
    {
     "name": "stdout",
     "output_type": "stream",
     "text": [
      "Notunuzu Girin:78\n",
      "CB\n"
     ]
    }
   ],
   "source": [
    "note = float(input(\"Notunuzu Girin:\"))\n",
    "if (note >= 90):\n",
    "    print(\"AA\")\n",
    "elif (note >= 85):\n",
    "    print(\"BA\")\n",
    "elif (note >= 80):\n",
    "    print(\"BB\")\n",
    "elif (note >= 75):\n",
    "    print(\"CB\")\n",
    "elif (note >= 70):\n",
    "    print(\"CC\")\n",
    "elif (note >= 65):\n",
    "    print(\"DC\")\n",
    "elif (note >= 60):\n",
    "    print(\"DD\")\n",
    "    \n",
    "else:\n",
    "    print(\"Kaldınız.\")\n",
    "    \n",
    "    "
   ]
  },
  {
   "cell_type": "code",
   "execution_count": null,
   "metadata": {},
   "outputs": [],
   "source": []
  }
 ],
 "metadata": {
  "kernelspec": {
   "display_name": "Python 3",
   "language": "python",
   "name": "python3"
  },
  "language_info": {
   "codemirror_mode": {
    "name": "ipython",
    "version": 3
   },
   "file_extension": ".py",
   "mimetype": "text/x-python",
   "name": "python",
   "nbconvert_exporter": "python",
   "pygments_lexer": "ipython3",
   "version": "3.7.4"
  }
 },
 "nbformat": 4,
 "nbformat_minor": 2
}
