{
 "cells": [
  {
   "cell_type": "code",
   "execution_count": 16,
   "metadata": {},
   "outputs": [],
   "source": [
    "class yazılımcı():\n",
    "    \n",
    "    def __init__(self,isim,soyisim,numara,maaş,diller):\n",
    "        self.isim = isim\n",
    "        self.soyisim = soyisim\n",
    "        self.numara = numara\n",
    "        self.maaş = maaş\n",
    "        self.diller = diller\n",
    "    \n",
    "    def bilgilerigoster(self):\n",
    "        print(\"\"\"\n",
    "        Yazılımcının Bilgileri:\n",
    "        \n",
    "        İsim = {}\n",
    "        \n",
    "        Soyisim = {}\n",
    "        \n",
    "        Numara = {}\n",
    "        \n",
    "        Maaş = {}\n",
    "        \n",
    "        Diller = {}\n",
    "        \n",
    "        \n",
    "        \"\"\".format(self.isim,self.soyisim,self.numara,self.maaş,self.diller))\n",
    "        \n",
    "    def zam_yap(self,zam_miktarı):\n",
    "        print(\"Zam Yapılıyor...\")\n",
    "            \n",
    "        self.maaş += zam_miktarı\n",
    "            \n",
    "    def dil_ekle(self,dil):\n",
    "        print(\"Dil Ekleniyor...\")\n",
    "        \n",
    "        self.diller.append(dil)\n",
    "        \n",
    "    def maaşdüşür(self,maaş_düşür):\n",
    "        print(\"Maaşınızdan aldık XD\")\n",
    "        \n",
    "        self.maaş -= maaş_düşür"
   ]
  },
  {
   "cell_type": "code",
   "execution_count": 17,
   "metadata": {},
   "outputs": [],
   "source": [
    "Yazılımcı = yazılımcı(\"Ekrem Şamil\",\"Bolat\",12345,3000,[\"Python\",\"Java\",\"Php\"])\n"
   ]
  },
  {
   "cell_type": "code",
   "execution_count": 18,
   "metadata": {},
   "outputs": [
    {
     "data": {
      "text/plain": [
       "<__main__.yazılımcı at 0x2bd71d87f48>"
      ]
     },
     "execution_count": 18,
     "metadata": {},
     "output_type": "execute_result"
    }
   ],
   "source": [
    "Yazılımcı"
   ]
  },
  {
   "cell_type": "code",
   "execution_count": 19,
   "metadata": {},
   "outputs": [
    {
     "name": "stdout",
     "output_type": "stream",
     "text": [
      "\n",
      "        Yazılımcının Bilgileri:\n",
      "        \n",
      "        İsim = Ekrem Şamil\n",
      "        \n",
      "        Soyisim = Bolat\n",
      "        \n",
      "        Numara = 12345\n",
      "        \n",
      "        Maaş = 3000\n",
      "        \n",
      "        Diller = ['Python', 'Java', 'Php']\n",
      "        \n",
      "        \n",
      "        \n"
     ]
    }
   ],
   "source": [
    "Yazılımcı.bilgilerigoster()"
   ]
  },
  {
   "cell_type": "code",
   "execution_count": 20,
   "metadata": {},
   "outputs": [
    {
     "name": "stdout",
     "output_type": "stream",
     "text": [
      "Zam Yapılıyor...\n"
     ]
    }
   ],
   "source": [
    "Yazılımcı.zam_yap(500)"
   ]
  },
  {
   "cell_type": "code",
   "execution_count": 21,
   "metadata": {},
   "outputs": [
    {
     "name": "stdout",
     "output_type": "stream",
     "text": [
      "Dil Ekleniyor...\n"
     ]
    }
   ],
   "source": [
    "Yazılımcı.dil_ekle(\"JavaScript\")"
   ]
  },
  {
   "cell_type": "code",
   "execution_count": 22,
   "metadata": {},
   "outputs": [
    {
     "name": "stdout",
     "output_type": "stream",
     "text": [
      "\n",
      "        Yazılımcının Bilgileri:\n",
      "        \n",
      "        İsim = Ekrem Şamil\n",
      "        \n",
      "        Soyisim = Bolat\n",
      "        \n",
      "        Numara = 12345\n",
      "        \n",
      "        Maaş = 3500\n",
      "        \n",
      "        Diller = ['Python', 'Java', 'Php', 'JavaScript']\n",
      "        \n",
      "        \n",
      "        \n"
     ]
    }
   ],
   "source": [
    "Yazılımcı.bilgilerigoster()"
   ]
  },
  {
   "cell_type": "code",
   "execution_count": 25,
   "metadata": {},
   "outputs": [
    {
     "name": "stdout",
     "output_type": "stream",
     "text": [
      "Maaşınızdan aldık XD\n"
     ]
    }
   ],
   "source": [
    "Yazılımcı.maaşdüşür(1000)"
   ]
  },
  {
   "cell_type": "code",
   "execution_count": 26,
   "metadata": {},
   "outputs": [
    {
     "name": "stdout",
     "output_type": "stream",
     "text": [
      "\n",
      "        Yazılımcının Bilgileri:\n",
      "        \n",
      "        İsim = Ekrem Şamil\n",
      "        \n",
      "        Soyisim = Bolat\n",
      "        \n",
      "        Numara = 12345\n",
      "        \n",
      "        Maaş = 2000\n",
      "        \n",
      "        Diller = ['Python', 'Java', 'Php', 'JavaScript']\n",
      "        \n",
      "        \n",
      "        \n"
     ]
    }
   ],
   "source": [
    "Yazılımcı.bilgilerigoster()"
   ]
  },
  {
   "cell_type": "code",
   "execution_count": null,
   "metadata": {},
   "outputs": [],
   "source": []
  }
 ],
 "metadata": {
  "kernelspec": {
   "display_name": "Python 3",
   "language": "python",
   "name": "python3"
  },
  "language_info": {
   "codemirror_mode": {
    "name": "ipython",
    "version": 3
   },
   "file_extension": ".py",
   "mimetype": "text/x-python",
   "name": "python",
   "nbconvert_exporter": "python",
   "pygments_lexer": "ipython3",
   "version": "3.7.4"
  }
 },
 "nbformat": 4,
 "nbformat_minor": 2
}
