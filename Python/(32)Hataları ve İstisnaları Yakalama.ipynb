{
 "cells": [
  {
   "cell_type": "markdown",
   "metadata": {},
   "source": [
    "# Hata Yakalama – try,except,finally"
   ]
  },
  {
   "cell_type": "markdown",
   "metadata": {},
   "source": [
    "Bu konuda programlarımızda hata verebilecek kodları yakalayabildiğimiz try,except,finally bloklarını ve fonksiyonlarda kendi hatalarımızı nasıl fırlatacağımızı öğreneceğiz."
   ]
  },
  {
   "cell_type": "markdown",
   "metadata": {},
   "source": [
    "try , except blokları\n",
    "try ,except bloklarının yapısı şu şekildedir;\n",
    "\n",
    "try:\n",
    "\n",
    "    Hata çıkarabilecek kodlar buraya yazılıyor.\n",
    "    Eğer hata çıkarsa program uygun olan except bloğuna girecek.\n",
    "    Hata oluşursa try bloğunun geri kalanındaki işlemler çalışmayacak.\n",
    "\n",
    "except Hata1:\n",
    "    Hata1 oluştuğunda burası çalışacak.\n",
    "\n",
    "except Hata2:\n",
    "    Hata2 oluştuğunda burası çalışacak.\n",
    "\n",
    "    //\n",
    "    //\n",
    "    //\n",
    "\n",
    "try:\n",
    " \n",
    "    Hata çıkarabilecek kodlar buraya yazılıyor.\n",
    "    Eğer hata çıkarsa program uygun olan except bloğuna girecek.\n",
    "    Hata oluşursa try bloğunun geri kalanındaki işlemler çalışmayacak.\n",
    "\n",
    "except Hata1:\n",
    "    Hata1 oluştuğunda burası çalışacak.\n",
    "\n",
    "except Hata2:\n",
    "    Hata2 oluştuğunda burası çalışacak.\n",
    " \n",
    "    //\n",
    "    //\n",
    "    //\n",
    "Hemen try , except ile ilgili örneklerimize geçelim."
   ]
  },
  {
   "cell_type": "code",
   "execution_count": 1,
   "metadata": {},
   "outputs": [
    {
     "ename": "ValueError",
     "evalue": "invalid literal for int() with base 10: '324234dsadsad'",
     "output_type": "error",
     "traceback": [
      "\u001b[1;31m---------------------------------------------------------------------------\u001b[0m",
      "\u001b[1;31mValueError\u001b[0m                                Traceback (most recent call last)",
      "\u001b[1;32m<ipython-input-1-b9f6cc845f7e>\u001b[0m in \u001b[0;36m<module>\u001b[1;34m\u001b[0m\n\u001b[1;32m----> 1\u001b[1;33m \u001b[0ma\u001b[0m \u001b[1;33m=\u001b[0m \u001b[0mint\u001b[0m\u001b[1;33m(\u001b[0m\u001b[1;34m\"324234dsadsad\"\u001b[0m\u001b[1;33m)\u001b[0m \u001b[1;31m# Burası ValueError hatası veriyor.\u001b[0m\u001b[1;33m\u001b[0m\u001b[1;33m\u001b[0m\u001b[0m\n\u001b[0m",
      "\u001b[1;31mValueError\u001b[0m: invalid literal for int() with base 10: '324234dsadsad'"
     ]
    }
   ],
   "source": [
    "a = int(\"324234dsadsad\") # Burası ValueError hatası veriyor."
   ]
  },
  {
   "cell_type": "code",
   "execution_count": 2,
   "metadata": {},
   "outputs": [
    {
     "name": "stdout",
     "output_type": "stream",
     "text": [
      "Hata oluştu\n",
      "Bloklar sona erdi\n"
     ]
    }
   ],
   "source": [
    "try:\n",
    "    \n",
    "    a =  int(\"324234dsadsad\") # Burası ValueError hatası veriyor.Hata verildikten sonra altındaki işlemleri bırakıp\n",
    "    print(\"Program burada\")     ## direkt olarak except bloğunu arıyor ve \"Program Burada Yazısı Yazılmıyor...\"\n",
    "    \n",
    "except: # Hatayı belirtmezsek bütün hatalar bu kısma giriyor.\n",
    "    print(\"Hata oluştu\")  # Burası çalışır.\n",
    "    \n",
    "print(\"Bloklar sona erdi\")"
   ]
  },
  {
   "cell_type": "code",
   "execution_count": 3,
   "metadata": {},
   "outputs": [
    {
     "name": "stdout",
     "output_type": "stream",
     "text": [
      "Program burada\n",
      "Bloklar sona erdi\n"
     ]
    }
   ],
   "source": [
    "try:\n",
    "    \n",
    "    a =  int(\"32423\") #Peki ya düzgün bir şekilde denersek? Except bloğunu aramıyor.Çünkü hata yok.\n",
    "    print(\"Program burada\")     #Gördüğümüz üzere bu blok çalıştı.\n",
    "    \n",
    "except: \n",
    "    print(\"Hata oluştu\") \n",
    "    \n",
    "print(\"Bloklar sona erdi\")"
   ]
  },
  {
   "cell_type": "code",
   "execution_count": 5,
   "metadata": {},
   "outputs": [
    {
     "name": "stdout",
     "output_type": "stream",
     "text": [
      "Hata oluştu\n",
      "Bloklar sona erdi\n"
     ]
    }
   ],
   "source": [
    "try:\n",
    "    \n",
    "    a =  int(\"32423qwdqwdqwdqwd\") \n",
    "    print(\"Program burada\")     \n",
    "    \n",
    "except ValueError: #Sadece ve sadece try bloğu içerisinde ValueError hatası olunca bu blok(except) çalışacak.\n",
    "    print(\"Hata oluştu\") \n",
    "    \n",
    "print(\"Bloklar sona erdi\")"
   ]
  },
  {
   "cell_type": "code",
   "execution_count": 6,
   "metadata": {},
   "outputs": [
    {
     "ename": "ValueError",
     "evalue": "invalid literal for int() with base 10: 'asfasd2423324'",
     "output_type": "error",
     "traceback": [
      "\u001b[1;31m---------------------------------------------------------------------------\u001b[0m",
      "\u001b[1;31mValueError\u001b[0m                                Traceback (most recent call last)",
      "\u001b[1;32m<ipython-input-6-3e327b3d3eed>\u001b[0m in \u001b[0;36m<module>\u001b[1;34m\u001b[0m\n\u001b[1;32m----> 1\u001b[1;33m \u001b[0ma\u001b[0m \u001b[1;33m=\u001b[0m \u001b[0mint\u001b[0m\u001b[1;33m(\u001b[0m\u001b[1;34m\"asfasd2423324\"\u001b[0m\u001b[1;33m)\u001b[0m\u001b[1;33m\u001b[0m\u001b[1;33m\u001b[0m\u001b[0m\n\u001b[0m",
      "\u001b[1;31mValueError\u001b[0m: invalid literal for int() with base 10: 'asfasd2423324'"
     ]
    }
   ],
   "source": [
    "a = int(\"asfasd2423324\")"
   ]
  },
  {
   "cell_type": "code",
   "execution_count": 7,
   "metadata": {},
   "outputs": [
    {
     "ename": "ZeroDivisionError",
     "evalue": "division by zero",
     "output_type": "error",
     "traceback": [
      "\u001b[1;31m---------------------------------------------------------------------------\u001b[0m",
      "\u001b[1;31mZeroDivisionError\u001b[0m                         Traceback (most recent call last)",
      "\u001b[1;32m<ipython-input-7-d2c0889640ff>\u001b[0m in \u001b[0;36m<module>\u001b[1;34m\u001b[0m\n\u001b[1;32m----> 1\u001b[1;33m \u001b[0mprint\u001b[0m\u001b[1;33m(\u001b[0m\u001b[1;36m2\u001b[0m\u001b[1;33m/\u001b[0m\u001b[1;36m0\u001b[0m\u001b[1;33m)\u001b[0m\u001b[1;33m\u001b[0m\u001b[1;33m\u001b[0m\u001b[0m\n\u001b[0m",
      "\u001b[1;31mZeroDivisionError\u001b[0m: division by zero"
     ]
    }
   ],
   "source": [
    "print(2/0)"
   ]
  },
  {
   "cell_type": "code",
   "execution_count": 1,
   "metadata": {},
   "outputs": [
    {
     "name": "stdout",
     "output_type": "stream",
     "text": [
      "Sayı1 :10\n",
      "Sayı2 :0\n",
      "Bir Sayı 0'a bölünemez.\n",
      "Bloklar Sona Erdi.\n"
     ]
    }
   ],
   "source": [
    "try:\n",
    "    a = int(input(\"Sayı1 :\"))\n",
    "    b = int(input(\"Sayı2 :\"))\n",
    "    print(a / b)\n",
    "\n",
    "except ValueError:\n",
    "    print(\"Lütfen inputu doğru giriniz.\")\n",
    "\n",
    "except ZeroDivisionError:\n",
    "    print(\"Bir Sayı 0'a bölünemez.\")\n",
    "print(\"Bloklar Sona Erdi.\")\n",
    "    "
   ]
  },
  {
   "cell_type": "code",
   "execution_count": 2,
   "metadata": {},
   "outputs": [
    {
     "name": "stdout",
     "output_type": "stream",
     "text": [
      "Sayı1 :10\n",
      "Sayı2 :qwşdkqwd\n",
      "Lütfen inputu doğru giriniz.\n",
      "Bloklar Sona Erdi.\n"
     ]
    }
   ],
   "source": [
    "try:\n",
    "    a = int(input(\"Sayı1 :\"))\n",
    "    b = int(input(\"Sayı2 :\"))\n",
    "    print(a / b)\n",
    "\n",
    "except ValueError:\n",
    "    print(\"Lütfen inputu doğru giriniz.\")\n",
    "\n",
    "except ZeroDivisionError:\n",
    "    print(\"Bir Sayı 0'a bölünemez.\")\n",
    "print(\"Bloklar Sona Erdi.\")"
   ]
  },
  {
   "cell_type": "code",
   "execution_count": 3,
   "metadata": {},
   "outputs": [
    {
     "name": "stdout",
     "output_type": "stream",
     "text": [
      "Sayı1 :12\n",
      "Sayı2 :3\n",
      "4.0\n",
      "Bloklar Sona Erdi.\n"
     ]
    }
   ],
   "source": [
    "try:\n",
    "    a = int(input(\"Sayı1 :\"))\n",
    "    b = int(input(\"Sayı2 :\"))\n",
    "    print(a / b)\n",
    "\n",
    "except ValueError:\n",
    "    print(\"Lütfen inputu doğru giriniz.\")\n",
    "\n",
    "except ZeroDivisionError:\n",
    "    print(\"Bir Sayı 0'a bölünemez.\")\n",
    "print(\"Bloklar Sona Erdi.\")"
   ]
  },
  {
   "cell_type": "code",
   "execution_count": 6,
   "metadata": {},
   "outputs": [
    {
     "name": "stdout",
     "output_type": "stream",
     "text": [
      "Sayı1 :10\n",
      "Sayı2 :asdasf\n",
      "ZeroDivision veya Value Error.\n",
      "Bloklar Sona Erdi.\n"
     ]
    }
   ],
   "source": [
    "try:\n",
    "    a = int(input(\"Sayı1 :\"))\n",
    "    b = int(input(\"Sayı2 :\"))\n",
    "    print(a / b)\n",
    "\n",
    "except (ValueError,ZeroDivisionError): # İki hatayı aynı blokta yazabiliriz.\n",
    "    print(\"ZeroDivision veya Value Error.\")\n",
    "print(\"Bloklar Sona Erdi.\")"
   ]
  },
  {
   "cell_type": "code",
   "execution_count": 5,
   "metadata": {},
   "outputs": [
    {
     "name": "stdout",
     "output_type": "stream",
     "text": [
      "Sayı1 :10\n",
      "Sayı2 :0\n",
      "ZeroDivision veya Value Error.\n",
      "Bloklar Sona Erdi.\n"
     ]
    }
   ],
   "source": [
    "try:\n",
    "    a = int(input(\"Sayı1 :\"))\n",
    "    b = int(input(\"Sayı2 :\"))\n",
    "    print(a / b)\n",
    "\n",
    "except (ValueError,ZeroDivisionError):\n",
    "    print(\"ZeroDivision veya Value Error.\")\n",
    "print(\"Bloklar Sona Erdi.\")"
   ]
  },
  {
   "cell_type": "markdown",
   "metadata": {},
   "source": [
    "### try,except,finally blokları"
   ]
  },
  {
   "cell_type": "markdown",
   "metadata": {},
   "source": [
    "Bazen programlarımızda her durumda mutlaka çalışmasını istediğimiz kodlar bulunabilir.Bunun için biz kendi try,except bloklarına ek olarak bir tane finally bloğu ekleyebiliriz. finally blokları hata olması veya olmaması durumunda mutlaka çalışacaktır. Yapısı şu şekildedir;"
   ]
  },
  {
   "cell_type": "markdown",
   "metadata": {},
   "source": [
    "try:\n",
    "\n",
    "\tHata çıkarabilecek kodlar buraya yazılıyor.\n",
    "\tEğer hata çıkarsa program uygun olan except bloğuna girecek.\n",
    "\tHata oluşursa try bloğunun geri kalanındaki işlemler çalışmayacak.\n",
    "\n",
    "except Hata1:\n",
    "\tHata1 oluştuğunda burası çalışacak.\n",
    "\n",
    "except Hata2:\n",
    "\tHata2 oluştuğunda burası çalışacak.\n",
    "\n",
    "\t//\n",
    "\t//\n",
    "\t//\n",
    "finally:\n",
    "\t\n",
    "    Mutlaka çalışması gereken kodlar buraya yazılacak.\n",
    "\t\n",
    "    Bu blok her türlü çalışacak."
   ]
  },
  {
   "cell_type": "code",
   "execution_count": 7,
   "metadata": {},
   "outputs": [
    {
     "name": "stdout",
     "output_type": "stream",
     "text": [
      "Sayı1 :12\n",
      "Sayı2 :3\n",
      "4.0\n",
      "Burası Çalıştı\n",
      "Bloklar Sona Erdi.\n"
     ]
    }
   ],
   "source": [
    "try:\n",
    "    a = int(input(\"Sayı1 :\"))\n",
    "    b = int(input(\"Sayı2 :\"))\n",
    "    print(a / b)\n",
    "\n",
    "except ValueError:\n",
    "    print(\"Lütfen inputu doğru giriniz.\")\n",
    "\n",
    "except ZeroDivisionError:\n",
    "    print(\"Bir Sayı 0'a bölünemez.\")\n",
    "\n",
    "finally:\n",
    "    print(\"Burası Çalıştı\")\n",
    "    \n",
    "print(\"Bloklar Sona Erdi.\")\n"
   ]
  },
  {
   "cell_type": "code",
   "execution_count": 8,
   "metadata": {},
   "outputs": [
    {
     "name": "stdout",
     "output_type": "stream",
     "text": [
      "Sayı1 :12\n",
      "Sayı2 :4qwdqwd\n",
      "Lütfen inputu doğru giriniz.\n",
      "Burası Çalıştı\n",
      "Bloklar Sona Erdi.\n"
     ]
    }
   ],
   "source": [
    "try:\n",
    "    a = int(input(\"Sayı1 :\"))\n",
    "    b = int(input(\"Sayı2 :\"))\n",
    "    print(a / b)\n",
    "\n",
    "except ValueError:\n",
    "    print(\"Lütfen inputu doğru giriniz.\")\n",
    "\n",
    "except ZeroDivisionError:\n",
    "    print(\"Bir Sayı 0'a bölünemez.\")\n",
    "\n",
    "finally:\n",
    "    print(\"Burası Çalıştı\")\n",
    "    \n",
    "print(\"Bloklar Sona Erdi.\")"
   ]
  },
  {
   "cell_type": "code",
   "execution_count": 9,
   "metadata": {},
   "outputs": [
    {
     "name": "stdout",
     "output_type": "stream",
     "text": [
      "Sayı1 :12\n",
      "Sayı2 :0\n",
      "Bir Sayı 0'a bölünemez.\n",
      "Burası Çalıştı\n",
      "Bloklar Sona Erdi.\n"
     ]
    }
   ],
   "source": [
    "try:\n",
    "    a = int(input(\"Sayı1 :\"))\n",
    "    b = int(input(\"Sayı2 :\"))\n",
    "    print(a / b)\n",
    "\n",
    "except ValueError:\n",
    "    print(\"Lütfen inputu doğru giriniz.\")\n",
    "\n",
    "except ZeroDivisionError:\n",
    "    print(\"Bir Sayı 0'a bölünemez.\")\n",
    "\n",
    "finally:\n",
    "    print(\"Burası Çalıştı\")\n",
    "    \n",
    "print(\"Bloklar Sona Erdi.\")"
   ]
  },
  {
   "cell_type": "markdown",
   "metadata": {},
   "source": [
    "## Hata Fırlatmak"
   ]
  },
  {
   "cell_type": "markdown",
   "metadata": {},
   "source": [
    "Bazen kendi yazdığımız fonksiyonlar yanlış kullanılırsa kendi hatalarımızı üretip Pythonda bu hataları fırlatabiliriz. Bunun içinde raise anahtar kelimesini kullanacağız. Hata fırlatma şu şekilde yapılabilmektedir;"
   ]
  },
  {
   "cell_type": "markdown",
   "metadata": {},
   "source": [
    "        raise HataAdı(opsiyonel hata mesajı)"
   ]
  },
  {
   "cell_type": "code",
   "execution_count": 15,
   "metadata": {},
   "outputs": [],
   "source": [
    "# Verilen string'i ters çevirmek\n",
    "def terscevir(s):\n",
    "    if(type(s) != str):\n",
    "        raise ValueError(\"Lütfen string bir değer gönderin.\")\n",
    "    else:\n",
    "        return s[::-1]"
   ]
  },
  {
   "cell_type": "code",
   "execution_count": 16,
   "metadata": {},
   "outputs": [
    {
     "name": "stdout",
     "output_type": "stream",
     "text": [
      "nohtyP\n"
     ]
    }
   ],
   "source": [
    "print(terscevir(\"Python\"))"
   ]
  },
  {
   "cell_type": "code",
   "execution_count": 17,
   "metadata": {},
   "outputs": [
    {
     "ename": "ValueError",
     "evalue": "Lütfen string bir değer gönderin.",
     "output_type": "error",
     "traceback": [
      "\u001b[1;31m---------------------------------------------------------------------------\u001b[0m",
      "\u001b[1;31mValueError\u001b[0m                                Traceback (most recent call last)",
      "\u001b[1;32m<ipython-input-17-ef0dc6dae4a5>\u001b[0m in \u001b[0;36m<module>\u001b[1;34m\u001b[0m\n\u001b[1;32m----> 1\u001b[1;33m \u001b[0mprint\u001b[0m\u001b[1;33m(\u001b[0m\u001b[0mterscevir\u001b[0m\u001b[1;33m(\u001b[0m\u001b[1;36m12\u001b[0m\u001b[1;33m)\u001b[0m\u001b[1;33m)\u001b[0m\u001b[1;33m\u001b[0m\u001b[1;33m\u001b[0m\u001b[0m\n\u001b[0m",
      "\u001b[1;32m<ipython-input-15-fa759b2f655a>\u001b[0m in \u001b[0;36mterscevir\u001b[1;34m(s)\u001b[0m\n\u001b[0;32m      2\u001b[0m \u001b[1;32mdef\u001b[0m \u001b[0mterscevir\u001b[0m\u001b[1;33m(\u001b[0m\u001b[0ms\u001b[0m\u001b[1;33m)\u001b[0m\u001b[1;33m:\u001b[0m\u001b[1;33m\u001b[0m\u001b[1;33m\u001b[0m\u001b[0m\n\u001b[0;32m      3\u001b[0m     \u001b[1;32mif\u001b[0m\u001b[1;33m(\u001b[0m\u001b[0mtype\u001b[0m\u001b[1;33m(\u001b[0m\u001b[0ms\u001b[0m\u001b[1;33m)\u001b[0m \u001b[1;33m!=\u001b[0m \u001b[0mstr\u001b[0m\u001b[1;33m)\u001b[0m\u001b[1;33m:\u001b[0m\u001b[1;33m\u001b[0m\u001b[1;33m\u001b[0m\u001b[0m\n\u001b[1;32m----> 4\u001b[1;33m         \u001b[1;32mraise\u001b[0m \u001b[0mValueError\u001b[0m\u001b[1;33m(\u001b[0m\u001b[1;34m\"Lütfen string bir değer gönderin.\"\u001b[0m\u001b[1;33m)\u001b[0m\u001b[1;33m\u001b[0m\u001b[1;33m\u001b[0m\u001b[0m\n\u001b[0m\u001b[0;32m      5\u001b[0m     \u001b[1;32melse\u001b[0m\u001b[1;33m:\u001b[0m\u001b[1;33m\u001b[0m\u001b[1;33m\u001b[0m\u001b[0m\n\u001b[0;32m      6\u001b[0m         \u001b[1;32mreturn\u001b[0m \u001b[0ms\u001b[0m\u001b[1;33m[\u001b[0m\u001b[1;33m:\u001b[0m\u001b[1;33m:\u001b[0m\u001b[1;33m-\u001b[0m\u001b[1;36m1\u001b[0m\u001b[1;33m]\u001b[0m\u001b[1;33m\u001b[0m\u001b[1;33m\u001b[0m\u001b[0m\n",
      "\u001b[1;31mValueError\u001b[0m: Lütfen string bir değer gönderin."
     ]
    }
   ],
   "source": [
    "print(terscevir(12))"
   ]
  },
  {
   "cell_type": "code",
   "execution_count": 18,
   "metadata": {},
   "outputs": [
    {
     "name": "stdout",
     "output_type": "stream",
     "text": [
      "Fonksiyon Hata Verdi.\n"
     ]
    }
   ],
   "source": [
    "try:\n",
    "    print(terscevir(12))\n",
    "    \n",
    "except ValueError:\n",
    "    print(\"Fonksiyon Hata Verdi.\")"
   ]
  },
  {
   "cell_type": "code",
   "execution_count": null,
   "metadata": {},
   "outputs": [],
   "source": []
  }
 ],
 "metadata": {
  "kernelspec": {
   "display_name": "Python 3",
   "language": "python",
   "name": "python3"
  },
  "language_info": {
   "codemirror_mode": {
    "name": "ipython",
    "version": 3
   },
   "file_extension": ".py",
   "mimetype": "text/x-python",
   "name": "python",
   "nbconvert_exporter": "python",
   "pygments_lexer": "ipython3",
   "version": "3.7.4"
  }
 },
 "nbformat": 4,
 "nbformat_minor": 2
}
