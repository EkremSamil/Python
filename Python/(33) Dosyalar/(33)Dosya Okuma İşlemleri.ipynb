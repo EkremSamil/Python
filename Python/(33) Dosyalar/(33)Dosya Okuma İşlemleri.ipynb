{
 "cells": [
  {
   "cell_type": "markdown",
   "metadata": {},
   "source": [
    "Dosyaları okumak ve verileri almak için \"r\" kipiyle açmamız gerekiyor. \"r\" kipiyle açtığımız dosya eğer bulunmuyorsa \"FileNotFoundError\" hatası dönecektir. Şimdi bulunduğumuz dizinde bulunan \"bilgiler.txt\" dosyasını açalım."
   ]
  },
  {
   "cell_type": "code",
   "execution_count": 1,
   "metadata": {},
   "outputs": [],
   "source": [
    "file = open(\"bilgilerr.txt\",\"r\")"
   ]
  },
  {
   "cell_type": "code",
   "execution_count": 2,
   "metadata": {},
   "outputs": [],
   "source": [
    "file.close()"
   ]
  },
  {
   "cell_type": "code",
   "execution_count": 3,
   "metadata": {},
   "outputs": [
    {
     "ename": "FileNotFoundError",
     "evalue": "[Errno 2] No such file or directory: 'bilgiler2.txt'",
     "output_type": "error",
     "traceback": [
      "\u001b[1;31m---------------------------------------------------------------------------\u001b[0m",
      "\u001b[1;31mFileNotFoundError\u001b[0m                         Traceback (most recent call last)",
      "\u001b[1;32m<ipython-input-3-880e534a871e>\u001b[0m in \u001b[0;36m<module>\u001b[1;34m\u001b[0m\n\u001b[1;32m----> 1\u001b[1;33m \u001b[0mfile\u001b[0m \u001b[1;33m=\u001b[0m \u001b[0mopen\u001b[0m\u001b[1;33m(\u001b[0m\u001b[1;34m\"bilgiler2.txt\"\u001b[0m\u001b[1;33m,\u001b[0m\u001b[1;34m\"r\"\u001b[0m\u001b[1;33m,\u001b[0m\u001b[0mencoding\u001b[0m\u001b[1;33m=\u001b[0m\u001b[1;34m\"utf-8\"\u001b[0m\u001b[1;33m)\u001b[0m  \u001b[1;31m# böyle bir dosya yok . O yüzden FileNotFoundError hatası döndü.\u001b[0m\u001b[1;33m\u001b[0m\u001b[1;33m\u001b[0m\u001b[0m\n\u001b[0m",
      "\u001b[1;31mFileNotFoundError\u001b[0m: [Errno 2] No such file or directory: 'bilgiler2.txt'"
     ]
    }
   ],
   "source": [
    "file = open(\"bilgiler2.txt\",\"r\",encoding=\"utf-8\")  # böyle bir dosya yok .\n",
    "                                                    ##O yüzden FileNotFoundError hatası döndü.\n"
   ]
  },
  {
   "cell_type": "code",
   "execution_count": 4,
   "metadata": {},
   "outputs": [
    {
     "name": "stdout",
     "output_type": "stream",
     "text": [
      "Dosya Bulunamadı.\n"
     ]
    }
   ],
   "source": [
    "try:\n",
    "    file = open(\"bilgiler2.txt\",\"r\",encoding=\"utf-8\")\n",
    "\n",
    "except FileNotFoundError:\n",
    "    print(\"Dosya Bulunamadı.\")\n",
    "    \n"
   ]
  },
  {
   "cell_type": "markdown",
   "metadata": {},
   "source": [
    "Peki bir dosyanın içinden bilgileri nasıl okuyacağız ? Bunun için Pythonda değişik yöntemler bulunuyor. İsterseniz bu yöntemleri tek tek görmeye çalışalım."
   ]
  },
  {
   "cell_type": "code",
   "execution_count": null,
   "metadata": {},
   "outputs": [],
   "source": []
  },
  {
   "cell_type": "markdown",
   "metadata": {},
   "source": [
    "# For Döngüsü İle"
   ]
  },
  {
   "cell_type": "code",
   "execution_count": 6,
   "metadata": {},
   "outputs": [
    {
     "name": "stdout",
     "output_type": "stream",
     "text": [
      "\n",
      "\n",
      "Ekrem\n",
      "\n",
      "Şamil\n",
      "\n",
      "Bolat\n",
      "\n",
      "Ekrem\n",
      "\n",
      "Şamil\n",
      "\n",
      "Bolat\n"
     ]
    }
   ],
   "source": [
    "file = open(\"bilgilerr.txt\",\"r\",encoding = \"utf-8\")\n",
    "\n",
    "for i in file:\n",
    "    print(i)\n",
    "file.close()"
   ]
  },
  {
   "cell_type": "markdown",
   "metadata": {},
   "source": [
    "Burada her bir satırımız boşluklu yazıldı. Bunun nedeni, hem her satır sonunda \"\\n\" karakterinin olması hem de print fonksiyonun bir alt satıra geçmek için boşluk bırakmasıdır. Bunu önlemek için varsayılan değer olarak \"\\n\" karakteri alan end parametresine kendimiz değer verebiliriz."
   ]
  },
  {
   "cell_type": "code",
   "execution_count": 13,
   "metadata": {},
   "outputs": [
    {
     "name": "stdout",
     "output_type": "stream",
     "text": [
      "\n",
      "Ekrem\n",
      "Şamil\n",
      "Bolat\n",
      "Ekrem\n",
      "Şamil\n",
      "Bolat"
     ]
    }
   ],
   "source": [
    "file = open(\"bilgilerr.txt\",\"r\",encoding = \"utf-8\")\n",
    "\n",
    "for i in file:\n",
    "    print(i,end =\"\")\n",
    "file.close()"
   ]
  },
  {
   "cell_type": "code",
   "execution_count": 14,
   "metadata": {},
   "outputs": [
    {
     "name": "stdout",
     "output_type": "stream",
     "text": [
      "Dosyanın İçeriği:  \n",
      "\n",
      "Ekrem\n",
      "Şamil\n",
      "Bolat\n",
      "Ekrem\n",
      "Şamil\n",
      "Bolat\n"
     ]
    }
   ],
   "source": [
    "file = open(\"bilgilerr.txt\",\"r\",encoding = \"utf-8\")\n",
    "\n",
    "icerik = file.read() #read() fonksiyonu eğer içine hiçbir değer vermezsek bütün dosyamızı okuyacaktır.\n",
    "print(\"Dosyanın İçeriği:  \")\n",
    "print(icerik)"
   ]
  },
  {
   "cell_type": "code",
   "execution_count": 18,
   "metadata": {},
   "outputs": [
    {
     "name": "stdout",
     "output_type": "stream",
     "text": [
      "Dosyanın İçeriği:  \n",
      "\n",
      "Ekrem\n",
      "Şamil\n",
      "Bolat\n",
      "Ekrem\n",
      "Şamil\n",
      "Bolat\n",
      "Dosyanın İçeriği2:  \n",
      "\n"
     ]
    }
   ],
   "source": [
    "file = open(\"bilgilerr.txt\",\"r\",encoding = \"utf-8\")\n",
    "\n",
    "icerik = file.read()\n",
    "print(\"Dosyanın İçeriği:  \")\n",
    "print(icerik)\n",
    "\n",
    "print(\"Dosyanın İçeriği2:  \")\n",
    "\n",
    "icerik2 = file.read()\n",
    "print(icerik2)\n",
    "file.close()"
   ]
  },
  {
   "cell_type": "markdown",
   "metadata": {},
   "source": [
    "read() fonksiyonuyla bir dosyayı okuduğumuzda dosya imlecimiz dosyanın en sonuna gider ve read() fonksiyonu 2. okuma da artık boş string döner."
   ]
  },
  {
   "cell_type": "markdown",
   "metadata": {},
   "source": [
    "# readline() fonksiyonu"
   ]
  },
  {
   "cell_type": "markdown",
   "metadata": {},
   "source": [
    "readline() fonksiyonu her çağrıldığında dosyanın sadece bir satırını okur. Her seferinde dosya imlecimiz (file) bir satır atlayarak devam eder."
   ]
  },
  {
   "cell_type": "code",
   "execution_count": 16,
   "metadata": {},
   "outputs": [],
   "source": [
    "file = open(\"bilgilerr.txt\",\"r\",encoding = \"utf-8\")"
   ]
  },
  {
   "cell_type": "code",
   "execution_count": 17,
   "metadata": {},
   "outputs": [
    {
     "name": "stdout",
     "output_type": "stream",
     "text": [
      "\n",
      "\n",
      "Ekrem\n",
      "\n",
      "Şamil\n",
      "\n",
      "Bolat\n",
      "\n"
     ]
    }
   ],
   "source": [
    "print(file.readline())# Boş string döndürdü çünkü okuyacak bişey yok.\n",
    "print(file.readline())\n",
    "print(file.readline())\n",
    "print(file.readline())"
   ]
  },
  {
   "cell_type": "code",
   "execution_count": 18,
   "metadata": {},
   "outputs": [],
   "source": [
    "file.close()"
   ]
  },
  {
   "cell_type": "markdown",
   "metadata": {},
   "source": [
    "## readlines() fonksiyonu\n",
    "\n",
    "Her bir satırı okuyarak tek bir listeye atar"
   ]
  },
  {
   "cell_type": "code",
   "execution_count": 20,
   "metadata": {},
   "outputs": [
    {
     "name": "stdout",
     "output_type": "stream",
     "text": [
      "['\\n', 'Ekrem\\n', 'Şamil\\n', 'Bolat\\n', 'Ekrem\\n', 'Şamil\\n', 'Bolat']\n"
     ]
    }
   ],
   "source": [
    "file = open(\"bilgilerr.txt\",\"r\",encoding = \"utf-8\")\n",
    "liste = file.readlines()\n",
    "print(liste)\n",
    "file.close()"
   ]
  },
  {
   "cell_type": "code",
   "execution_count": null,
   "metadata": {},
   "outputs": [],
   "source": []
  },
  {
   "cell_type": "code",
   "execution_count": null,
   "metadata": {},
   "outputs": [],
   "source": []
  }
 ],
 "metadata": {
  "kernelspec": {
   "display_name": "Python 3",
   "language": "python",
   "name": "python3"
  },
  "language_info": {
   "codemirror_mode": {
    "name": "ipython",
    "version": 3
   },
   "file_extension": ".py",
   "mimetype": "text/x-python",
   "name": "python",
   "nbconvert_exporter": "python",
   "pygments_lexer": "ipython3",
   "version": "3.7.4"
  }
 },
 "nbformat": 4,
 "nbformat_minor": 2
}
